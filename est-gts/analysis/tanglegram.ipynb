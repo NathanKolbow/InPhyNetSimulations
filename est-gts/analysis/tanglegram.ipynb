{
 "cells": [
  {
   "cell_type": "markdown",
   "metadata": {},
   "source": [
    "This code gets the adjusted networks necessary for displaying tanglegram figures as well as for conducting their relevant analyses."
   ]
  },
  {
   "cell_type": "markdown",
   "metadata": {},
   "source": [
    "### Reducing a network to clades"
   ]
  },
  {
   "cell_type": "code",
   "execution_count": 5,
   "metadata": {},
   "outputs": [
    {
     "data": {
      "text/plain": [
       "get_completed_params (generic function with 1 method)"
      ]
     },
     "metadata": {},
     "output_type": "display_data"
    }
   ],
   "source": [
    "include(joinpath(@__DIR__, \"..\", \"..\", \"helpers/set-seed.jl\"))\n",
    "include(joinpath(@__DIR__, \"..\", \"..\", \"helpers/file-locking.jl\"))\n",
    "include(joinpath(@__DIR__, \"..\", \"..\", \"helpers/pipelines.jl\"))\n",
    "include(joinpath(@__DIR__, \"..\", \"..\", \"helpers/save-results.jl\"))\n",
    "include(joinpath(@__DIR__, \"..\", \"..\", \"helpers/data-simulation.jl\"))\n",
    "include(joinpath(@__DIR__, \"..\", \"..\", \"helpers/est_constraints-helpers.jl\"))\n",
    "include(joinpath(@__DIR__, \"..\", \"..\", \"helpers/estimated_gts-helpers.jl\"))\n",
    "include(joinpath(@__DIR__, \"..\", \"..\", \"helpers/pruned_simulation-helpers.jl\"))\n",
    "include(joinpath(@__DIR__, \"..\", \"..\", \"helpers/results-getters.jl\"))"
   ]
  },
  {
   "cell_type": "code",
   "execution_count": 24,
   "metadata": {},
   "outputs": [
    {
     "ename": "InterruptException",
     "evalue": "InterruptException:",
     "output_type": "error",
     "traceback": [
      "InterruptException:\n",
      "\n",
      "Stacktrace:\n",
      "  [1] GenericMemory\n",
      "    @ ./boot.jl:516 [inlined]\n",
      "  [2] Array\n",
      "    @ ./boot.jl:578 [inlined]\n",
      "  [3] vect\n",
      "    @ ./array.jl:161 [inlined]\n",
      "  [4] parseTreeNode!\n",
      "    @ ~/.julia/packages/PhyloNetworks/m0mhi/src/readwrite.jl:272 [inlined]\n",
      "  [5] readSubtree!(s::IOBuffer, parent::PhyloNetworks.Node, numLeft::Vector{Int64}, net::HybridNetwork, hybrids::Vector{String})\n",
      "    @ PhyloNetworks ~/.julia/packages/PhyloNetworks/m0mhi/src/readwrite.jl:466\n",
      "  [6] parseRemainingSubtree!(s::IOBuffer, numLeft::Vector{Int64}, net::HybridNetwork, hybrids::Vector{String})\n",
      "    @ PhyloNetworks ~/.julia/packages/PhyloNetworks/m0mhi/src/readwrite.jl:166\n",
      "  [7] readSubtree!(s::IOBuffer, parent::PhyloNetworks.Node, numLeft::Vector{Int64}, net::HybridNetwork, hybrids::Vector{String})\n",
      "    @ PhyloNetworks ~/.julia/packages/PhyloNetworks/m0mhi/src/readwrite.jl:440\n",
      "  [8] parseRemainingSubtree!(s::IOBuffer, numLeft::Vector{Int64}, net::HybridNetwork, hybrids::Vector{String})\n",
      "    @ PhyloNetworks ~/.julia/packages/PhyloNetworks/m0mhi/src/readwrite.jl:166\n",
      "  [9] readSubtree!(s::IOBuffer, parent::PhyloNetworks.Node, numLeft::Vector{Int64}, net::HybridNetwork, hybrids::Vector{String})\n",
      "    @ PhyloNetworks ~/.julia/packages/PhyloNetworks/m0mhi/src/readwrite.jl:440\n",
      " [10] parseRemainingSubtree!(s::IOBuffer, numLeft::Vector{Int64}, net::HybridNetwork, hybrids::Vector{String})\n",
      "    @ PhyloNetworks ~/.julia/packages/PhyloNetworks/m0mhi/src/readwrite.jl:166\n",
      " [11] readSubtree!(s::IOBuffer, parent::PhyloNetworks.Node, numLeft::Vector{Int64}, net::HybridNetwork, hybrids::Vector{String})\n",
      "    @ PhyloNetworks ~/.julia/packages/PhyloNetworks/m0mhi/src/readwrite.jl:440\n",
      " [12] parseRemainingSubtree!(s::IOBuffer, numLeft::Vector{Int64}, net::HybridNetwork, hybrids::Vector{String})\n",
      "    @ PhyloNetworks ~/.julia/packages/PhyloNetworks/m0mhi/src/readwrite.jl:166\n",
      " [13] readSubtree!(s::IOBuffer, parent::PhyloNetworks.Node, numLeft::Vector{Int64}, net::HybridNetwork, hybrids::Vector{String})\n",
      "    @ PhyloNetworks ~/.julia/packages/PhyloNetworks/m0mhi/src/readwrite.jl:440\n",
      " [14] parseRemainingSubtree!(s::IOBuffer, numLeft::Vector{Int64}, net::HybridNetwork, hybrids::Vector{String})\n",
      "    @ PhyloNetworks ~/.julia/packages/PhyloNetworks/m0mhi/src/readwrite.jl:166\n",
      " [15] readSubtree!(s::IOBuffer, parent::PhyloNetworks.Node, numLeft::Vector{Int64}, net::HybridNetwork, hybrids::Vector{String})\n",
      "    @ PhyloNetworks ~/.julia/packages/PhyloNetworks/m0mhi/src/readwrite.jl:440\n",
      " [16] parseRemainingSubtree!(s::IOBuffer, numLeft::Vector{Int64}, net::HybridNetwork, hybrids::Vector{String})\n",
      "    @ PhyloNetworks ~/.julia/packages/PhyloNetworks/m0mhi/src/readwrite.jl:166\n",
      " [17] readSubtree!(s::IOBuffer, parent::PhyloNetworks.Node, numLeft::Vector{Int64}, net::HybridNetwork, hybrids::Vector{String})\n",
      "    @ PhyloNetworks ~/.julia/packages/PhyloNetworks/m0mhi/src/readwrite.jl:440\n",
      " [18] parseRemainingSubtree!(s::IOBuffer, numLeft::Vector{Int64}, net::HybridNetwork, hybrids::Vector{String})\n",
      "    @ PhyloNetworks ~/.julia/packages/PhyloNetworks/m0mhi/src/readwrite.jl:166\n",
      " [19] readSubtree!(s::IOBuffer, parent::PhyloNetworks.Node, numLeft::Vector{Int64}, net::HybridNetwork, hybrids::Vector{String})\n",
      "    @ PhyloNetworks ~/.julia/packages/PhyloNetworks/m0mhi/src/readwrite.jl:440\n",
      " [20] readTopology(s::IOBuffer, verbose::Bool)\n",
      "    @ PhyloNetworks ~/.julia/packages/PhyloNetworks/m0mhi/src/readwrite.jl:537\n",
      " [21] readTopology(input::String, verbose::Bool)\n",
      "    @ PhyloNetworks ~/.julia/packages/PhyloNetworks/m0mhi/src/readwrite.jl:496\n",
      " [22] readTopology\n",
      "    @ ~/.julia/packages/PhyloNetworks/m0mhi/src/readwrite.jl:518 [inlined]\n",
      " [23] ExcludeWalk\n",
      "    @ ~/.julia/packages/Functors/wOtRi/src/walks.jl:144 [inlined]\n",
      " [24] (::Functors.CachedWalk{Functors.ExcludeWalk{Functors.DefaultWalk, typeof(readTopology), typeof(Functors.isleaf)}, Functors.NoKeyword})(::Function, ::String)\n",
      "    @ Functors ~/.julia/packages/Functors/wOtRi/src/walks.jl:195\n",
      " [25] recurse\n",
      "    @ ~/.julia/packages/Functors/wOtRi/src/walks.jl:52 [inlined]\n",
      " [26] iterate\n",
      "    @ ./generator.jl:48 [inlined]\n",
      " [27] collect_to!(dest::Vector{HybridNetwork}, itr::Base.Generator{Vector{String}, Functors.var\"#recurse#26\"{Functors.CachedWalk{Functors.ExcludeWalk{Functors.DefaultWalk, typeof(readTopology), typeof(Functors.isleaf)}, Functors.NoKeyword}}}, offs::Int64, st::Int64)\n",
      "    @ Base ./array.jl:838\n",
      " [28] collect_to_with_first!(dest::Vector{HybridNetwork}, v1::HybridNetwork, itr::Base.Generator{Vector{String}, Functors.var\"#recurse#26\"{Functors.CachedWalk{Functors.ExcludeWalk{Functors.DefaultWalk, typeof(readTopology), typeof(Functors.isleaf)}, Functors.NoKeyword}}}, st::Int64)\n",
      "    @ Base ./array.jl:816\n",
      " [29] _collect(c::Vector{String}, itr::Base.Generator{Vector{String}, Functors.var\"#recurse#26\"{Functors.CachedWalk{Functors.ExcludeWalk{Functors.DefaultWalk, typeof(readTopology), typeof(Functors.isleaf)}, Functors.NoKeyword}}}, ::Base.EltypeUnknown, isz::Base.HasShape{1})\n",
      "    @ Base ./array.jl:810\n",
      " [30] collect_similar(cont::Vector{String}, itr::Base.Generator{Vector{String}, Functors.var\"#recurse#26\"{Functors.CachedWalk{Functors.ExcludeWalk{Functors.DefaultWalk, typeof(readTopology), typeof(Functors.isleaf)}, Functors.NoKeyword}}})\n",
      "    @ Base ./array.jl:709\n",
      " [31] map(f::Function, A::Vector{String})\n",
      "    @ Base ./abstractarray.jl:3371\n",
      " [32] _map\n",
      "    @ ~/.julia/packages/Functors/wOtRi/src/walks.jl:3 [inlined]\n",
      " [33] DefaultWalk\n",
      "    @ ~/.julia/packages/Functors/wOtRi/src/walks.jl:91 [inlined]\n",
      " [34] ExcludeWalk\n",
      "    @ ~/.julia/packages/Functors/wOtRi/src/walks.jl:144 [inlined]\n",
      " [35] (::Functors.CachedWalk{Functors.ExcludeWalk{Functors.DefaultWalk, typeof(readTopology), typeof(Functors.isleaf)}, Functors.NoKeyword})(::Function, ::Vector{String})\n",
      "    @ Functors ~/.julia/packages/Functors/wOtRi/src/walks.jl:195\n",
      " [36] execute\n",
      "    @ ~/.julia/packages/Functors/wOtRi/src/walks.jl:53 [inlined]\n",
      " [37] #fmap#40\n",
      "    @ ~/.julia/packages/Functors/wOtRi/src/maps.jl:11 [inlined]\n",
      " [38] fmap\n",
      "    @ ~/.julia/packages/Functors/wOtRi/src/maps.jl:3 [inlined]\n",
      " [39] readMultiTopology\n",
      "    @ ~/.julia/packages/PhyloNetworks/m0mhi/src/readwrite.jl:1343 [inlined]\n",
      " [40] readMultiTopology(file::String, fast::Bool)\n",
      "    @ PhyloNetworks ~/.julia/packages/PhyloNetworks/m0mhi/src/readwrite.jl:1347\n",
      " [41] readMultiTopology\n",
      "    @ ~/.julia/packages/PhyloNetworks/m0mhi/src/readwrite.jl:1346 [inlined]\n",
      " [42] get_est_gts\n",
      "    @ /mnt/dv/wid/projects4/SolisLemus-network-merging/InPhyNet-Simulations/helpers/results-getters.jl:13 [inlined]\n",
      " [43] get_mnet(ntaxa::Int64, rep::Int64, ils::String, ngt::Int64, m::Int64)\n",
      "    @ Main /mnt/dv/wid/projects4/SolisLemus-network-merging/InPhyNet-Simulations/helpers/results-getters.jl:162\n",
      " [44] top-level scope\n",
      "    @ /mnt/dv/wid/projects4/SolisLemus-network-merging/InPhyNet-Simulations/est-gts/analysis/tanglegram.ipynb:4"
     ]
    }
   ],
   "source": [
    "ntaxa = 1000; rep = 16; ils = \"low\"; ngt = 1000; m = 20;\n",
    "# rep = 93;\n",
    "\n",
    "truenet = load_true_net_ils_adjusted(ntaxa, rep, ils);\n",
    "mnet = get_mnet(ntaxa, rep, ils, ngt, m);\n",
    "_, mnet = find_minimum_retic_subset_hwcd_greedy(truenet, mnet, verbose=true, swaponerror=true);\n",
    "for e in truenet.edge e.length = -1.0; e.gamma = -1.0; end"
   ]
  },
  {
   "cell_type": "code",
   "execution_count": 25,
   "metadata": {},
   "outputs": [
    {
     "name": "stdout",
     "output_type": "stream",
     "text": [
      "(((((((((t408,t409),((t413,(t420,t421)),(((t406,(t415,t416)),((t405,(((t418,t419),t417),t407)),((t410,t411))#H5)),(t412,(((t422,t423),(t424,t425)),t414))))),t402),((t403,(t404,#H5)),t401)),((((((t582,t583),((t594,t595),(t599,t600))),(t596,#H7)),((t576,t577),((t579,(t587,t588)),(t585,t586)))),((((t597,(t598)#H7),(t589,t590)),t584),((t578,(t580,t581)),(t591,(t592,t593))))),(((((t624,t625),(t620,t621)),(t618,t619)),(((t602)#H8,((t613,(t616,t617)),t611)),((t610,((t614,t615),(t612,(t622,t623)))),(t606,t607)))),((t601,(t608,t609)),((t604,t605),(t603,#H8)))))),((((t552,t553),(t551,(((t562,t563),t558),(t560,(t572,t573))))),((((t557,(t568,t569)),t555),(t554,(t574,t575))),(((t564,t565),((t570,t571),t559)),((t561,(t566,t567)),t556)))),((((((((t815,t816),t808),t807),(t817,t818)),(t804,(t823,(t824,t825)))),(((t811,t812),(((t813,t814),t806),t805)),t801)),(((t821,t822),(t819,t820)),(t802,((t809,t810),t803)))),((t830,t831),(((t828,(t840,t841)),(t827,((t844,(t845,t846)),t839))),(((((t835,t836),t829),(t842,t843)),(((t834,(t837,t838)),(t832,((t847,t848),t833))),t826)),(t849,t850))))))),((((t4,(t6,(t9,t10))),(t2,t3)),((((t15,(t18,t19)),(((t7,t8),(t24,t25)),(t22,t23))),((((t16,t17),(t11,t12)),((t13,t14),t5)),(t20,t21))),t1)),((((((t45,t46),t40),((((t47,t48),t35),t29),(t38,t39))),(((t33,t34),(t41,t42)),((t36,t37),t28))),((((t30,(t43,t44)),(t49,t50)),t26),(t27,(t31,t32)))),((((((((t145,t146),t137),((((t149,t150),t142),(t140,t141)),((t133,t134),((t143,t144),(t126,(t127,(t138,t139))))))),((((t129,t130),(t147,t148)),(t128,(t131,t132))),(t135,t136))),(((t153,#H1),((t157,(t161,(t162,(t170,(t174,t175))))),((t155,t156),(((t158,(t160,(t164,(t165,t166)))))#H1,(t159,(t167,t168)))))),(((((t169,(t171,(t172,t173))),t163),t154),t152),t151))),(((t346,t347),(((((t349,t350),t348),(t326,(t336,t337))),((((t338,t339),t335),((t334,((t342,t343),(t344,t345))),t328)),(t327,(t331,(t332,t333))))),(((t340,t341),t330),t329))),((((t351,(t352,((t365,t366),(t359,t360)))),(((t371,(t372,t373)),t361),((t362,(t367,t368)),t358))),((t353,(t355,(t363,t364))),(t369,t370))),((t354,(t374,t375)),(t356,t357))))),(((t58,(t63,(t67,t68))),((t53,(t56,t57)),((t65,t66),((t74,t75),t73)))),((t51,(t52,((t54,((((t71,t72),t70),t69),t64)),((t61,t62),t55)))),(t59,t60)))),((((((((t199,t200),t187),((t177,((((t190,t191),(t180,t181)),((t182,(t183,(t197,t198))),(((t195,t196),t192),t184))),(t188,t189))),t176)),((t185,t186),t179)),((t193,t194),t178)),((((((((t221,(t222,t223)),(t219,t220)),t212),(t210,t211)),t202),(t201,(t207,(t208,t209)))),(t203,(t213,t214))),((t224,t225),(t204,((((t215,t216),(t217,t218)),t206),t205))))),((((((t428,((t435,t436),t432)))#H6,(((((t439,t440),t430),(((t431,((t447,t448),t446)),(t437,t438)),t429)),((t449,t450),((t433,t434),(t441,(t444,t445))))),t426)),((t427,(t442,t443)),#H6)),((((t470,t471),t454),((((((t472,t473),t469),t468),((t455,(t467,(t474,t475))),t452)),t451),(t459,t460))),((t456,(t461,(t462,t463))),((t464,(t465,t466)),(t453,(t457,t458)))))),((((((t688,t689),t686),((((t693,t694),t687),(t699,t700)),(((t683,t684),t676),((((((t680,t681),t679),t678),t677),((t690,(t695,t696)),((t697,t698),t685))),(t682,(t691,t692)))))),((((t709,(t711,t712)),(t705,t706)),((((t702,((t724,t725),(t704,((t720,t721),t713)))),(t716,t717)),(t701,((t710,(t722,t723)),(t718,t719)))),(((t707,t708),(t714,t715)),t703))),(((t731,t732),(((((t734,t735),t730),t729),(t728,(((t741,t742),t733),(((t745,t746),(t747,t748)),(t739,t740))))),((t738,(t749,t750)),(t726,t727)))),((t743,t744),(t736,t737))))),((t381,t382),((((t378,t379),((t390,t391),((t386,t387),(t385,((t392,(t397,t398)),t388))))),((t384,(t393,t394)),((t383,((t395,((t399,t400),t396)),t389)),t380))),(t376,t377)))),((((((t257,(t260,t261)),t256),(t266,t267)),(t272,t273)),(t262,t263)),(((t264,t265),(((t258,t259),t251),(((((t269,(t270,t271)),t268),(t274,t275)),t255),t254))),(t252,t253)))))),((((((t480,t481),(t479,(t497,t498))),(t490,t491)),((t488,t489),t484)),((t477,((t486,t487),t485)),((((t476,(t482,t483)),(t492,t493)),((t494,t495),t478)),((t499,t500),t496)))),(((((t902,t903),t901),(((((t915,t916),t906),(t907,t908)),(((t920,t921),(t924,t925)),((t922,t923),t919))),((t909,t910),((t904,t905),(t912,(t913,t914)))))),((t917,t918),t911)),((((t929,(t930,(((t945,t946),t932),t931))),((((t947,t948),t944),t937),(t933,t934))),((t938,t939),((t927,(t949,t950)),t926))),(((t935,t936),t928),((t940,t941),(t942,t943))))))))))),(((((((((((((t866,t867),(t859,(t862,t863))),t854),(t860,t861)),t851),(t858,(t874,t875))),(t852,t853)),(((t857,(t868,t869)),t856),((t855,((t872,t873),(t870,t871))),(t864,t865)))),((((t879,(((t884,t885),((t892,t893),(t899,t900))),(t895,t896))),((t877,t878),((t889,t890),(t886,(t887,t888))))),t876),(((t882,t883),((((t897,t898),t894),t891),t881)),t880))),((((t278,t279),(((t281,t282),t277),((t287,t288),(t297,t298)))),((t299,t300),((t293,t294),(t291,t292)))),(((((t283,t284),(t295,t296)),t280),((t285,t286),(t289,t290))),t276))),(((((((t116,t117),(t120,t121)),(((t111,(((t114,t115),t113),t112)),t108),t106)),((t103,(t109,t110)),(t122,t123))),(t101,((t102,(t118,t119)),((t124,t125),t107)))),(t104,t105)),((((((t751,(((t758,(t774,t775)),(t765,(t768,t769))),((t770,t771),t759))),((t755,t756),((t772,t773),t754))),((t763,t764),((t766,t767),((t760,(t761,t762)),t757)))),(t752,t753)),((((t791,(t796,(t797,t798))),((t787,t788),t780)),((t794,t795),t778)),(t776,(t777,((((t799,t800),t789),t779),((((((t785,t786),t784),t783),t782),((t792,t793),t790)),t781)))))),(((t240,t241),((t231,((t232,(t235,#H2)),((t236,t237),(t247,t248)))),t227)),((((((t238,t239),((t249,t250),#H3)),(t233,(t242)#H3)),t229),((t243,t244),((t230,(t234,((t245,t246))#H2)),t228))),t226))))),(((((((t87,t88),t79),(t77,(t92,t93))),(t76,(t84,(t97,t98)))),(t80,t81)),((t78,(((t95,t96),(t94,(t99,t100))),t89)),((t82,t83),((t85,t86),(t90,t91))))),(((((t955,(t972,t973)),(((((t957,t958),(t974,t975)),(t953,(t961,(t968,t969)))),((t970,t971),(t954,((t966,t967),t956)))),(t951,(((t964,t965),t952),((t959,t960),(t962,t963)))))),(t976,((t977,t978),(((t993,(t999,t1000)),((t985,t986),(t992,(t994,t995)))),((((t990,t991),t980),((t987,t988),(t981,t982))),(t979,(((t996,(t997,t998)),t989),(t983,t984)))))))),(((((t307,((t316,t317),t310)),t306),(t303,#H4)),((t324,t325),(t304,t305))),((t302)#H4,((((t313,t314),(t322,t323)),t301),((t309,(t318,t319)),((t315,(t320,t321)),((t311,t312),t308))))))),((((t501,(t524,t525)),(((t511,t512),(t516,t517)),(((t504,t505),t502),(t503,((t522,t523),(t510,(t513,t514))))))),((t506,((t520,t521),t515)),((t507,t508),(t509,(t518,t519))))),(((t527,(((t541,t542),t536),((t549,t550),(t537,t538)))),(t543,t544)),((t528,((t530,(t547,t548)),((t531,t532),(t534,t535)))),(t526,((t529,(t539,t540)),(t533,(t545,t546)))))))))),(((((t628,(t629,t630)),(((t633,(t641,t642)),t627),(t634,t635))),(t649,t650)),(((t647,t648),((t632,(t636,t637)),t631)),((t626,(t639,t640)),((t645,t646),(t638,(t643,t644)))))),((((t674,t675),t655),((t668,t669),(t658,t659))),(((((t664,t665),t657),((t663,(t672,t673)),t660)),t651),((t653,t654),(t652,(((t670,t671),t656),(((t666,t667),t662),t661))))))))),OUTGROUP);\n"
     ]
    }
   ],
   "source": [
    "println(writeTopology(truenet))"
   ]
  },
  {
   "cell_type": "code",
   "execution_count": 23,
   "metadata": {},
   "outputs": [
    {
     "name": "stdout",
     "output_type": "stream",
     "text": [
      "(OUTGROUP,(((((((((((t100,t99),t94),(t95,t96)),t89),t78),((t82,t83),((t85,t86),(t90,t91)))),(((t76,(t84,(t97,t98))),((t77,(t92,t93)),(t79,(t87,t88)))),(t80,t81))),(((((((((t1000,t999),t993),((t985,t986),(t992,(t994,t995)))),((t979,((t983,t984),(t989,(t996,(t997,t998))))),((t980,(t990,t991)),((t981,t982),(t987,t988))))),(t977,t978)),t976),(((t951,((t952,(t964,t965)),((t959,t960),(t962,t963)))),(((t953,(t961,(t968,t969))),((t957,t958),(t974,t975))),((t954,(t956,(t966,t967))),(t970,t971)))),(t955,(t972,t973)))),(((t301,((t313,t314),(t322,t323))),(((t308,(t311,t312)),(t315,(t320,t321))),(t309,(t318,t319)))),((((t306,(t307,(t310,(t316,t317)))),(t303,#H5:::0.16408800903559995)),((t304,t305),(t324,t325))),(t302)#H5:::0.8359119909644))),((((t501,(t524,t525)),(((t502,(t504,t505)),(t503,((t510,(t513,t514)),(t522,t523)))),((t511,t512),(t516,t517)))),((t506,(t515,(t520,t521))),((t507,t508),(t509,(t518,t519))))),(((t526,((t529,(t539,t540)),(t533,(t545,t546)))),(t528,((t530,(t547,t548)),((t531,t532),(t534,t535))))),((t527,((t536,(t541,t542)),((t537,t538),(t549,t550)))),(t543,t544)))))),(((((t101,((t102,(t118,t119)),(t107,(t124,t125)))),(((t103,(t109,t110)),(t122,t123)),((t106,(t108,(t111,(t112,(t113,(t114,t115)))))),((t116,t117),(t120,t121))))),(t104,t105)),(((t226,(((t243,t244),(t228,(t230,(t234,((t245,t246))#H4:::0.8461515430870999)))),(t229,((t233,(t242)#H8:::0.9458057632837653),((t238,t239),((t249,t250),#H8:::0.05419423671623473)))))),((t240,t241),(t227,(t231,((t232,(t235,#H4:::0.15384845691290003)),((t236,t237),(t247,t248))))))),(((((t751,(((t758,(t774,t775)),(t765,(t768,t769))),(t759,(t770,t771)))),((t754,(t772,t773)),(t755,t756))),(((t757,(t760,(t761,t762))),(t766,t767)),(t763,t764))),(t752,t753)),((t776,(t777,((t779,(t789,(t799,t800))),(t781,((t782,(t783,(t784,(t785,t786)))),(t790,(t792,t793))))))),((t778,(t794,t795)),((t780,(t787,t788)),(t791,(t796,(t797,t798))))))))),(((t276,((t280,((t283,t284),(t295,t296))),((t285,t286),(t289,t290)))),((((t277,(t281,t282)),((t287,t288),(t297,t298))),(t278,t279)),(((t291,t292),(t293,t294)),(t299,t300)))),(((((t851,((t854,((t859,(t862,t863)),(t866,t867))),(t860,t861))),(t858,(t874,t875))),(t852,t853)),(((t855,((t870,t871),(t872,t873))),(t864,t865)),(t856,(t857,(t868,t869))))),((t876,(((t877,t878),((t886,(t887,t888)),(t889,t890))),(t879,(((t884,t885),((t892,t893),(t899,t900))),(t895,t896))))),(t880,((t881,(t891,(t894,(t897,t898)))),(t882,t883)))))))),(((((t626,(t639,t640)),((t638,(t643,t644)),(t645,t646))),((t631,(t632,(t636,t637))),(t647,t648))),((((t627,(t633,(t641,t642))),(t634,t635)),(t628,(t629,t630))),(t649,t650))),(((t651,((t657,(t664,t665)),(t660,(t663,(t672,t673))))),((t652,((t656,(t670,t671)),(t661,(t662,(t666,t667))))),(t653,t654))),((t655,(t674,t675)),((t658,t659),(t668,t669)))))),(((((t401,(t403,t404)),(t402,(((((t406,(t415,t416)),(((t405,(t407,(t417,(t418,t419)))),((t410,t411))#H1:::0.5087011020977101),#H1:::0.4912988979022899)),(t412,(t414,((t422,t423),(t424,t425))))),(t413,(t420,t421))),(t408,t409)))),(((((t576,t577),((t579,(t587,t588)),(t585,t586))),(((t582,t583),((t594,t595),(t599,t600))),(t596,#H6:::0.4794492378652945))),(((t578,(t580,t581)),(t591,(t592,t593))),(t584,((t589,t590),(t597,(t598)#H6:::0.5205507621347055))))),(((t601,(t608,t609)),((t604,t605),(t603,#H9:::0.4936655686447359))),((((t611,(t613,(t616,t617))),(t602)#H9:::0.5063344313552641),((t606,t607),(t610,((t612,(t622,t623)),(t614,t615))))),((t618,t619),((t620,t621),(t624,t625))))))),((((t551,((t558,(t562,t563)),(t560,(t572,t573)))),(t552,t553)),(((t554,(t574,t575)),(t555,(t557,(t568,t569)))),((t556,(t561,(t566,t567))),((t559,(t570,t571)),(t564,t565))))),((((t801,((t805,(t806,(t813,t814))),(t811,t812))),((t804,(t823,(t824,t825))),((t807,(t808,(t815,t816))),(t817,t818)))),((t802,(t803,(t809,t810))),((t819,t820),(t821,t822)))),(((((t826,((t832,(t833,(t847,t848))),(t834,(t837,t838)))),((t829,(t835,t836)),(t842,t843))),(t849,t850)),((t827,(t839,(t844,(t845,t846)))),(t828,(t840,t841)))),(t830,t831))))),(((t1,(((((t11,t12),(t16,t17)),((t13,t14),t5)),(t20,t21)),((t15,(t18,t19)),((t22,t23),((t24,t25),(t7,t8)))))),((((t10,t9),t6),t4),(t2,t3))),((((t26,((t30,(t43,t44)),(t49,t50))),(t27,(t31,t32))),(((t28,(t36,t37)),((t33,t34),(t41,t42))),(((t29,(t35,(t47,t48))),(t38,t39)),(t40,(t45,t46))))),((((((((((t126,(t127,(t138,t139))),(t143,t144)),(t133,t134)),((t140,t141),(t142,(t149,t150)))),(t137,(t145,t146))),(((t128,(t131,t132)),((t129,t130),(t147,t148))),(t135,t136))),((t151,(t152,(t154,(t163,(t169,(t171,(t172,t173))))))),((((t155,t156),((((t159,(t167,t168)))#H2:::0.9579067531380051,((t158,(t160,(t164,(t165,t166)))))#H3:::0.9383831288745013),#H2:::0.042093246861994844)),(t157,(t161,(t162,(t170,(t174,t175)))))),(t153,#H3:::0.06161687112549871)))),((((((t326,(t336,t337)),(t348,(t349,t350))),((t327,(t331,(t332,t333))),((t328,(t334,((t342,t343),(t344,t345)))),(t335,(t338,t339))))),(t329,(t330,(t340,t341)))),(t346,t347)),((((t351,(t352,((t359,t360),(t365,t366)))),((t358,(t362,(t367,t368))),(t361,(t371,(t372,t373))))),((t353,(t355,(t363,t364))),(t369,t370))),((t354,(t374,t375)),(t356,t357))))),(((t51,(t52,((t54,(t64,(t69,(t70,(t71,t72))))),(t55,(t61,t62))))),(t59,t60)),(((t53,(t56,t57)),((t65,t66),(t73,(t74,t75)))),(t58,(t63,(t67,t68)))))),((((((((t476,(t482,t483)),(t492,t493)),(t478,(t494,t495))),(t496,(t499,t500))),(t477,(t485,(t486,t487)))),((((t479,(t497,t498)),(t480,t481)),(t490,t491)),(t484,(t488,t489)))),((((t901,(t902,t903)),((((t904,t905),(t912,(t913,t914))),(t909,t910)),(((t906,(t915,t916)),(t907,t908)),((t919,(t922,t923)),((t920,t921),(t924,t925)))))),(t911,(t917,t918))),((((t926,(t927,(t949,t950))),(t938,t939)),((t929,(t930,(t931,(t932,(t945,t946))))),((t933,t934),(t937,(t944,(t947,t948)))))),((t928,(t935,t936)),((t940,t941),(t942,t943)))))),((((((t176,(t177,((((t180,t181),(t190,t191)),((t182,(t183,(t197,t198))),(t184,(t192,(t195,t196))))),(t188,t189)))),(t187,(t199,t200))),(t179,(t185,t186))),(t178,(t193,t194))),((((t201,(t207,(t208,t209))),(t202,((t210,t211),(t212,((t219,t220),(t221,(t222,t223))))))),(t203,(t213,t214))),((t204,(t205,(t206,((t215,t216),(t217,t218))))),(t224,t225)))),(((((t426,(((t429,((t431,(t446,(t447,t448))),(t437,t438))),(t430,(t439,t440))),(((t433,t434),(t441,(t444,t445))),(t449,t450)))),(t428,(t432,(t436,t435)))),(t427,(t442,t443))),((((t451,((t452,(t455,(t467,(t474,t475)))),(t468,(t469,(t472,t473))))),(t459,t460)),(t454,(t470,t471))),(((t453,(t457,t458)),(t464,(t465,t466))),(t456,(t461,(t462,t463)))))),((((((t251,(t258,t259)),(t254,(t255,((t268,(t269,(t270,t271))),(t274,t275))))),(t264,t265)),(t252,t253)),((((t256,(t257,(t260,t261))),(t266,t267)),(t272,t273)),(t262,t263))),((((t376,t377),(((t378,t379),(((t385,(t388,(t392,(t397,t398)))),(t386,t387)),(t390,t391))),((t380,(t383,(t389,(t395,(t396,(t399,t400)))))),(t384,(t393,t394))))),(t381,t382)),(((((t676,(t683,t684)),(((t677,(t678,(t679,(t680,t681)))),((t685,(t697,t698)),(t690,(t695,t696)))),(t682,(t691,t692)))),((t687,(t693,t694)),(t699,t700))),(t686,(t688,t689))),(((((t701,((t710,(t722,t723)),(t718,t719))),((t702,((t704,(t713,(t720,t721))),(t724,t725))),(t716,t717))),(t703,((t707,t708),(t714,t715)))),((t705,t706),(t709,(t711,t712)))),(((((t726,t727),(t738,(t749,t750))),((t728,((t733,(t741,t742)),((t739,t740),((t745,t746),(t747,t748))))),(t729,(t730,(t734,t735))))),(t731,t732)),((t736,t737),(t743,t744))))))))))))))));\n"
     ]
    }
   ],
   "source": [
    "println(writeTopology(mnet))"
   ]
  },
  {
   "cell_type": "markdown",
   "metadata": {},
   "source": [
    "Helper functions"
   ]
  },
  {
   "cell_type": "code",
   "execution_count": 3,
   "metadata": {},
   "outputs": [
    {
     "data": {
      "text/plain": [
       "gather_clades (generic function with 1 method)"
      ]
     },
     "metadata": {},
     "output_type": "display_data"
    }
   ],
   "source": [
    "function trim_to_clades!(net::HybridNetwork, clade_size::Int)\n",
    "    to_remove = [];\n",
    "    for leaf in net.leaf\n",
    "        if leaf.name == \"OUTGROUP\" continue end\n",
    "        leaf_num = parse(Int, leaf.name[2:length(leaf.name)])\n",
    "        if leaf_num % clade_size == 0\n",
    "            leaf.name = \"clade$(Int(leaf_num / clade_size))\"\n",
    "            continue\n",
    "        end\n",
    "        push!(to_remove, leaf.name)\n",
    "    end\n",
    "\n",
    "    for leaf_name in to_remove\n",
    "        deleteleaf!(net, leaf_name)\n",
    "    end\n",
    "end\n",
    "\n",
    "function gather_clades(net::HybridNetwork, clade_size::Int)\n",
    "    clades = [Vector{String}() for _ = 1:(net.numTaxa ÷ clade_size)]\n",
    "    for (i, leaf) in enumerate(net.leaf)\n",
    "        if leaf.name == \"OUTGROUP\" continue end\n",
    "        leaf_num = parse(Int, leaf.name[2:length(leaf.name)])\n",
    "        push!(clades[((leaf_num -1) ÷ clade_size) + 1], leaf.name)\n",
    "    end\n",
    "    return pruneTruthFromDecomp(net, clades)\n",
    "end"
   ]
  },
  {
   "cell_type": "markdown",
   "metadata": {},
   "source": [
    "### Get the networks reduced down to their clades"
   ]
  },
  {
   "cell_type": "code",
   "execution_count": 14,
   "metadata": {},
   "outputs": [],
   "source": [
    "clade_size = 2;\n",
    "\n",
    "adj_mnet = deepcopy(mnet);\n",
    "adj_true = deepcopy(truenet);\n",
    "\n",
    "trim_to_clades!(adj_mnet, clade_size);\n",
    "trim_to_clades!(adj_true, clade_size);"
   ]
  },
  {
   "cell_type": "code",
   "execution_count": 15,
   "metadata": {},
   "outputs": [
    {
     "name": "stdout",
     "output_type": "stream",
     "text": [
      "(OUTGROUP,(((((((clade39,((clade47,clade50),clade48)),((clade43,clade45),clade41)),(((clade38,(clade42,clade49)),(clade46,clade44)),clade40)),(((((((((clade496,clade497),clade493),clade500),(((clade490,clade495),(clade491,clade494)),(clade492,(clade498,clade499)))),clade489),clade488),(((((clade479,clade487),clade484),((clade477,(clade478,clade483)),clade485)),((clade476,clade482),(clade480,clade481))),clade486)),(((((clade154,clade156),clade160),clade159),(clade157,clade161)),((((clade153,(clade155,clade158)),#H5:::0.0005510855792618444),(clade152,clade162)),(clade151)#H5:::0.9994489144207381))),((((((clade251,clade252),((clade255,clade257),clade261)),(clade256,clade258)),clade262),((clade253,clade260),(clade254,clade259))),(((clade263,(clade270,clade273)),(clade264,((clade265,clade274),(clade266,clade267)))),(((clade268,clade271),(clade269,clade275)),clade272))))),((((((clade55,clade61),((clade53,(clade54,(clade56,clade57))),(clade58,clade60))),((clade51,clade59),clade62)),clade52),(((clade113,(((clade114,(clade115,(clade117,(clade123)#H4:::0.9579067531380051))),clade122),(((#H8:::0.05419423671623473,clade125),clade119),(clade121)#H8:::0.9458057632837653))),(clade120,((clade116,#H4:::0.042093246861994844),(clade118,clade124)))),((((((clade377,clade386),clade378),(((clade379,clade387),clade384),clade385)),(((clade380,clade381),clade383),clade382)),clade376),((clade388,(clade400,((clade391,(clade392,clade393)),(clade395,clade396)))),((clade389,clade397),((clade390,clade394),(clade398,clade399))))))),(((clade138,((clade140,(clade142,clade148)),(clade143,clade145))),((((clade144,clade149),clade141),clade139),((clade146,clade147),clade150))),(((((clade429,clade437),((clade427,(clade431,clade433)),clade430)),clade426),(((clade435,clade436),clade432),(clade428,clade434))),((clade438,((((clade443,clade444),clade445),clade439),(((clade446,clade450),clade442),clade448))),(clade440,((clade447,clade449),clade441))))))),(((((clade313,clade320),((clade319,clade322),clade323)),((clade316,clade318),clade324)),(((clade321,clade317),(clade314,clade315)),clade325)),((((clade326,((clade328,clade335),(clade331,clade333))),clade327),((clade330,clade336),clade332)),((clade329,clade334),clade337)))),(((((clade201,(((((clade203,clade208),(((clade205)#H1:::0.5205507621347055,clade209),#H1:::0.4794492378652945)),(clade206,(clade207,(clade211,clade212)))),clade210),clade204)),clade202),(((((clade294,clade293),clade288),(((clade297,clade300),clade291),(clade298,#H7:::0.06161687112549871))),(((clade289,clade290),clade296),(clade292,(clade295,(clade299)#H7:::0.9383831288745013)))),(((clade302,#H9:::0.15384845691290003),clade304),((((clade301)#H9:::0.8461515430870999,clade308),((clade305,((clade306,clade311),clade307)),clade303)),((clade310,clade312),clade309))))),(((((clade279,clade281),(clade280,clade286)),clade276),(((clade277,clade287),clade284),((clade278,clade283),(clade285,clade282)))),(((((clade402,clade412),((clade404,clade408),clade409)),((clade403,clade407),clade406)),((clade401,clade405),(clade410,clade411))),(((((clade413,((clade416,clade424),(clade417,clade419))),(clade418,clade421)),clade425),((clade414,clade420),(clade422,clade423))),clade415)))),(((((clade3,clade5),clade2),clade1),((((clade6,clade8),clade7),clade10),(((clade12,clade4),clade11),clade9))),((((clade13,((clade15,clade22),clade25)),clade16),(((clade14,clade18),(clade17,clade21)),((clade24,clade19),(clade20,clade23)))),((((((((((clade63,clade69),clade72),clade67),((clade71,clade75),clade70)),clade73),(((clade64,clade66),(clade65,clade74)),clade68)),(((((((clade84)#H2:::0.5087011020977101,((clade79,(clade80,(clade82,clade83))))#H3:::0.5063344313552641),#H2:::0.4912988979022899),clade78),(clade81,(clade85,clade87))),#H3:::0.4936655686447359),(clade76,(clade77,clade86)))),((((((clade163,clade168),(clade174,clade175)),(((clade164,(clade167,(clade171,clade172))),clade169),clade166)),(clade165,clade170)),clade173),(((((clade179,(clade181,clade184)),clade186),(clade176,(clade180,clade183))),(clade182,clade185)),((clade177,clade187),clade178)))),(((clade26,((clade27,(clade32,(clade35,clade36))),clade31)),clade30),(((clade33,clade37),clade28),(clade29,clade34)))),((((((((clade238,clade241),clade246),(clade239,clade247)),(clade248,clade250)),clade243),(((clade249,clade240),clade245),(clade242,clade244))),(((((((clade456,clade457),clade452),clade455),(((clade453,clade458),clade454),((clade460,clade462),clade461))),clade451),clade459),((((clade463,clade475),clade469),((clade467,(clade472,clade474)),(clade465,(clade466,clade473)))),((clade464,clade468),(clade470,clade471))))),((((((clade88,(((clade90,clade95),((clade91,clade99),(clade92,(clade96,clade98)))),clade94)),clade100),clade93),(clade89,clade97)),((((clade101,((clade106,(clade110,clade111)),clade105)),clade104),clade107),((clade102,(clade103,(clade108,clade109))),clade112))),(((((clade213,(((clade215,clade220),((clade223,clade224),clade219)),((clade217,clade222),clade225))),(clade214,(clade216,clade218))),clade221),(((((clade226,clade237),(clade234,clade236)),clade230),(clade227,clade235)),(((clade232,clade233),clade229),(clade228,clade231)))),((((((clade127,((clade134,clade135),clade137)),clade129),clade132),clade126),((((clade128,clade130),clade133),clade136),clade131)),((((((((clade194,(clade196,clade199)),clade193),clade195),clade189),((clade190,(clade198,clade200)),(clade192,clade197))),clade188),clade191),(((((clade338,clade342),((((clade345,clade348),clade349),(clade339,clade340)),(clade341,clade346))),(clade347,clade350)),(clade343,clade344)),((((((clade351,((clade352,clade360),clade362)),clade358),((clade355,clade361),clade359)),(clade354,clade357)),(clade353,clade356)),(((((clade369,clade375),clade363),((clade364,(((clade373,clade374),clade370),clade371)),(clade365,clade367))),clade366),(clade368,clade372)))))))))))))));\n"
     ]
    }
   ],
   "source": [
    "println(writeTopology(adj_mnet))"
   ]
  },
  {
   "cell_type": "code",
   "execution_count": 16,
   "metadata": {},
   "outputs": [
    {
     "name": "stdout",
     "output_type": "stream",
     "text": [
      "((((((((((((clade203:3.5297707860933416,clade208:3.5297707860933447):0.9178517747335968,((clade205:3.8898335106750297)#H5:0.0::0.8303600717746086,clade209:5.000859826596036):0.65467159207646):0.7044947425255247,(clade206:3.280199690701504,((clade211:1.7626480583138475,clade212:1.818108614888382):0.9197187630674931,clade207:2.288884337135442):0.9913153535660653):1.8719176126509591):0.5363367179900154,clade210:5.4256348470490074):0.5759743414160008,clade204:6.001609188011088):0.5363367179900154,clade201:5.363367179899911):2.4139823719731925,(clade202:3.792950968750482,#H5:0.5363367179900154::0.16963992822539142):5.258307915811049):0.9212780828439053,((((((clade297:1.4529183088727646,clade300:1.5379304203166178):3.080580619449852,clade291:4.108354293089013):0.5363367179900154,(clade298:0.5363367179897525,#H7:0.5363367179900154::0.16478028515079735):4.3158940594097475):2.285771630312757,((clade294:4.591556550502099,clade293:4.591556550956016):2.027896844689975,clade288:6.619453393376395):0.5363367179900154):2.2769207912312597,((((clade299:0.536336717989756)#H7:1.157321843261974::0.8352197148492027,clade295:1.2548019932688725):0.6546278505628759,clade292:1.9094298433778285):2.854953519834824,((clade289:3.686702941195316,clade290:3.6867029407413936):0.5363367179900154,clade296:4.390319673872895):0.7909238131941545):4.21168326684017):0.6469589824019866,((((clade312:3.0978901204019045,clade310:2.8500733613797937):2.824279271866495,clade309:5.543573504493762):5.363367179900153,(((clade301:3.2886329182538248)#H8:1.2392983170853422::0.9580166069840208,clade308:4.749070057592993):0.5363367179900154,((clade305:2.326750993775795,((clade306:1.1513532219505795,clade311:1.4821511658448172):0.9000947860067829,clade307:2.051448008411286):0.5363367179900154):2.1687753055314745,clade303:4.495526298853354):0.5363367179900154):5.363367179900153):0.5363367179900154,((clade302:5.1712963111464205,#H8:2.419000110882611::0.0419833930159792):0.6113803962943387,clade304:5.896867114098796):5.363367179900153):0.6469589824019866):0.5363367179900154):2.4014179626358896,(((clade276:10.429598950503658,((clade279:3.7191193786433616,clade281:3.719119378643362):2.3064668822696976,(clade280:2.928246767586232,clade286:3.112474288364144):3.097339493326827):6.890132330087534):1.5828965915874411,(((clade277:5.363367179899844,clade287:5.899703897889852):1.1530145819577637,clade284:7.376964740941204):3.18740954160444,((clade282:3.6534180065625006,clade285:3.7750544476838463):5.363367179900153,(clade278:4.96936457644878,clade283:4.969364575994861):5.1293645729553665):0.5363367179900154):3.9342409004963077):0.6987511614154348,((((((clade404:2.1966351649431046,clade408:2.196635164943104):2.838482251559026,clade409:4.739174472949479):1.7634627216970922,(clade402:3.5398978611361596,clade412:4.488677771671897):2.7969049548757114):1.7302260791224466,(clade406:3.0590869264517693,(clade403:2.8162823087633897,clade407:2.816282309217309):1.0726734359800307):5.0079419682286295):2.2625688698984425,((clade411:1.0726734359797891,clade410:1.0726734359797891):5.363367179900153,(clade401:4.120771146764232,clade405:4.496065470358403):4.997264866030714):1.211561754053499):0.5363367179900154,((((clade414:4.713057309299256,clade420:4.713057309299256):4.669010729933201,(clade422:0.7387632774729843,clade423:1.0726734359797536):8.643304760851633):0.6530173935599491,(((clade418:5.966971876026284,clade421:5.966971877388044):2.8583484502950975,(((clade417:2.7847152916186357,clade419:2.7847152916186353):2.6012230828444203,(clade416:3.1803012978066088,clade424:3.4694547922747647):2.2056370766564473):0.9923034976167742,clade413:5.36336717989989):2.447078454695472):0.9084335814759665,clade425:5.89970389788993):0.5363367179900154):0.5363367179900154,clade415:8.585499293217826):0.5363367179900154):0.5363367179900154):2.6239448840643598):4.133851571965013,((((clade2:5.363367179899904,(clade3:1.8294400959922452,clade5:1.829440096446165):5.351274035648404):2.3239389928370393,clade1:6.428415436447044):1.3567375103931958,((((clade4:1.7009364765847568,clade12:1.6807698258673716):1.6744450643502435,clade11:3.3551569410188415):5.363367179900153,clade9:6.436040615879935):0.7819570153438038,(((clade8:1.5888946380783833,clade6:1.3567960250140847):1.96133193222707,clade7:3.569925586186):0.5363367179900154,clade10:4.085223235477487):5.363367179900153):1.9226428197650016):5.363367179900153,(((((clade20:2.0655594708002525,clade23:2.065559470800252):5.363367179900153,(clade24:6.07785328346139,clade19:6.077853283461389):2.4432000407936245):2.0629988646376627,((clade17:4.949799174088137,clade21:4.949799174088138):0.8547456955399224,(clade14:4.40105621263333,clade18:4.401056213087243):1.4034886565408171):4.779507320172456):2.6473869291323724,((((clade15:3.869574761636879,clade22:3.869574761636879):2.6000568529495895,clade25:5.899703897889866):0.8543018093254869,clade13:5.363367179899872):0.8247314671755885,clade16:8.148664891541461):5.082774227845344):4.603334629375178,(((((((((clade71:0.5363367179897418,clade75:1.0726734359797465):0.8468087079332045,clade70:1.3202744604767607):5.363367179900153,(((clade63:3.0118356330181197,clade69:3.2511832343161418):1.2537789831958392,clade72:4.418449592490789):0.9600318210474406,clade67:5.2256464372614):2.302173221760094):0.5363367179900154,clade73:6.4655850475496015):3.079111029602898,(((clade65:2.6900527106214196,clade74:3.1210895908065672):1.5550637335861772,(clade64:2.1670834498401477,clade66:2.562787791358781):1.9957602273746344):3.2818170917675644,clade68:6.4581505001385615):3.2238547275125957):1.9730141859373067,(((((((clade79:3.9988807537757354,(clade80:2.371704438339432,(clade82:1.2095407367089843,clade83:1.2095407362550614):1.1621637020843714):1.6271763149823792):3.594261304800166)#H1:0.0::0.5,clade84:7.674154719642293):0.8572700321606479,clade78:7.087409508391871):2.153883516219363,(clade81:1.730330516502281,(clade85:0.5363367179896636,clade87:1.0726734359796826):1.358946755962247):8.947935193981753):4.926746359677111,#H1:6.610611686905369::0.5):1.8981401675280591,((clade77:5.363367179899851,clade86:8.273225149777584):0.9281101723638271,clade76:5.3633671798998614):6.79636050367958):1.9730141859373067):0.6758143793079381,((((((clade174:0.5363367179897276,clade175:1.0726734359797323):5.363367179900153,(clade163:4.2284736899485065,clade168:4.2284736904024305):2.4241264576550767):2.289809927426662,((((clade167:1.186555241759894,(clade171:1.2203091442300094,clade172:1.142346626079075):0.5363367179900154):1.478914065225869,clade164:2.6654693069857593):1.0263220167962586,clade169:3.9614832301995175):1.0919013993317446,clade166:5.139787334730674):4.158717351916485):2.6768156651451007,(clade165:2.13639130745122,clade170:2.13639130745122):5.899703897890168):1.4594843930124546,clade173:5.899703897889948):1.2444161427165545,((((((clade181:1.861941874874533,clade184:2.02762180189976):0.7461091187051541,clade179:2.608050993579687):1.4884654153602208,clade186:4.373799511964457):4.357194180203785,(clade176:5.363367179899851,(clade183:2.3901008122291207,clade180:2.5909202771847375):4.205956400413517):2.072103723058762):5.363367179900153,(clade182:10.88125108248405,clade185:6.574522031750627):3.7881165787223354):0.5363367179900154,((clade177:5.010526165049571,clade187:5.010526162779977):2.4777843417715584,clade178:7.488310504097611):5.363367179900153):1.2444161427165545):1.4044124225286905):1.1145466724214566,(((clade29:2.6644814107751893,clade34:2.664481411229112):5.363367179900153,((clade33:5.876252668172391,clade37:6.4313615410693705):1.6555612672888316,clade28:7.5318139345533845):1.4464648556865523):4.1322331137203365,((clade26:5.363367179899865,((clade27:5.363367179899854,(clade32:1.5435931398869929,(clade35:0.844336321054859,clade36:1.1751410823683837):1.2309771598645927):4.5480287863217566):0.5363367179900154,clade31:6.142943761846787):0.5363367179900154):5.181200170584025,clade30:7.410761480171368):1.6989124022534874):3.763375237666702):0.5363367179900154,(((((((clade88:5.363367179899847,(((clade95:3.8593493267440855,clade90:4.068600754016471):0.6970637200930282,((clade91:3.175595020699667,clade99:3.5846862194991598):0.6471039797728951,((clade96:1.7624927548586093,clade98:1.762492755312529):1.1761907544822372,clade92:2.9386835097947657):0.8840154906777958):0.7337140468184714):0.5821457726669728,clade94:5.138558819958007):2.8254380084556696):2.615632012400563,clade100:8.611589302940333):0.5363367179900154,clade93:8.94175982397788):5.363367179900153,(clade89:4.132373807932651,clade97:4.13237380793265):5.363367179900153):1.8165107329834058,(((((((clade111:1.6090101539697548,clade110:1.182077930189716):1.2117379406977866,clade106:1.8824682433005453):1.9165246484303484,clade105:4.050710394616829):1.7834503914408006,clade101:5.363367179899876):0.5363367179900154,clade104:6.432726229176357):0.5363367179900154,clade107:6.425798777814914):3.64793973105061,((clade102:4.504596358885909,((clade108:3.1144077129941286,clade109:3.1144077125402054):1.1817375605142715,clade103:4.296145273054477):1.0726734359800307):1.0996540719549224,clade112:5.8997038978898875):4.469488078024697):1.8165107329834058):0.5363367179900154,((((((clade214:5.363367179899854,(clade216:2.1683542115304273,clade218:2.1683542115304313):3.9735274196315724):2.054536332486347)#H6:0.0::0.7850681497588116,((((clade215:2.5223853131840586,clade220:2.522385313184058):3.5967691328169775,((clade223:0.5363367179897063,clade224:1.072673435979718):3.7024488584117687,clade219:3.941606569846249):2.1775478757008706):0.5363367179900154,((clade217:2.532665325398892,clade222:2.4621935072437715):1.443983712698388,clade225:4.024100801514951):3.0433886889563557):0.5363367179900154,clade213:5.363367179899865):1.2882744103367831):5.035946069689143,(#H6:0.5376454701933785::0.21493185024118844,clade221:8.053721128399289):4.498300599949685):0.8819530336466095,(((clade227:2.9934263000147903,clade235:3.01307767323475):3.344477818586319,(((clade234:0.9317529765452404,clade236:1.641711458390862):4.638567087674776,(clade226:4.534178191104032,clade237:4.810810724223952):1.0361418708463865):1.0726734359800307,clade230:6.14520474381635):0.5363367179900154):1.8237988084000731,((clade228:2.8703405096163035,clade231:3.2989524872969804):1.9216593512482336,((clade232:1.1647448267771447,clade233:1.5141932294265668):2.947458857498865,clade229:4.112203684276009):0.6797961765885305):3.3697030656827254):0.8819530336466095):0.9484606800598252,(((((clade343:1.818205305383343,clade344:1.910489015252826):5.363367179900153,((clade347:2.817004842020686,clade350:3.226498405803564):5.363367179900153,((clade338:5.363367179899833,clade342:6.9458128665664445):5.363367179900153,((((clade345:1.3537681146293135,clade348:1.5959767647007137):0.803454016054136,clade349:2.7676469050394767):4.177366701292036,(clade339:5.363367179899815,clade340:6.344239454176759):1.0726734359800307):0.7789662867182541,(clade341:4.851412246943987,clade346:4.921915950816164):2.2621428731115096):5.21573775295086):0.9312735130163853):3.569809072889103):0.5729295809182997,(((clade356:4.688557985947551,clade353:4.688557985947551):5.363367179900153,((((clade351:5.363367179899844,((clade352:2.894211048483197,clade360:3.3030906158682662):0.8356020934789931,clade362:4.201129922496785):3.123243605863444):2.269951639763829,clade358:5.9842579242200795):2.6621777131508093,((clade355:2.165352592464524,clade361:2.622880540813364):5.363367179900153,clade359:5.899703897889877):2.5014762845887093):2.0937348937944846,(clade354:2.8360056881659887,clade357:2.7141238399226424):5.899703897890168):0.5363367179900154):0.5526485837546707,(((((clade364:5.363367179899854,(((clade373:1.9794254636327138,clade374:2.0008039963063435):0.5363367179900154,clade370:2.3718882331311018):2.401989459282788,clade371:4.7738776928678055):0.6965960498504569):0.5363367179900154,(clade365:4.453534450351761,clade367:4.453534450351761):1.4950302873726673):2.425339205236099,((clade369:1.6051893792701324,clade375:1.7489386870331725):5.363367179900153,clade363:6.531183786288465):1.345317399822616):1.020634707197895,clade366:8.471635333157922):2.063525706484633,(clade372:2.2003300564051607,clade368:2.3979474607462685):5.363367179900153):0.5526485837546707):0.5363367179900154):0.5363367179900154,((((((clade193:3.623025934116045,((clade196:1.055109691612992,clade199:1.2120276692809022):0.5363367179900154,clade194:1.4237360291518366):2.2078937566678922):0.5363367179900154,clade195:3.7256250681573775):3.0385886420350916,clade189:6.764213709738553):1.3018294729926458,((clade192:3.1640718422245664,clade197:3.164071842224567):2.772468256095225,(clade190:4.297289634008202,(clade198:0.5363367179897347,clade200:1.072673435979743):4.376483907010545):1.6392504647655066):2.1295030844114065):0.5363367179900154,clade188:7.065558971904807):1.5212876202119345,clade191:8.861110633466327):1.0308325918911476):0.5363367179900154,(((((clade128:4.501466932386384,clade130:4.501466932386384):3.2591648827855315,clade133:6.46920759391249):1.816032160952493,clade136:5.899703897889902):2.6038364553514524,clade131:7.079355776735387):0.8175112436688728,((((clade127:5.0460324322239405,((clade134:0.7296611657196821,clade135:1.60901015396973):3.78685924896853,clade137:4.702318404417089):1.0726734359800307):3.121539756707287,clade129:8.167572188023389):0.5363367179900154,clade132:6.817380120720367):2.049121835863039,clade126:10.295909253813287):2.3075701948151406):1.4282100215002966):0.5363367179900154):0.5363367179900154):1.1338339917998692,(((((clade240:4.6648219539143465,clade249:4.870525597368086):1.9226654687015816,clade245:6.474820663135677):0.9027899384944441,(clade242:2.4906245958129913,clade244:2.4906245953590758):4.999652764843456):5.363367179900153,(((((clade238:5.363367179899762,clade241:7.331099628710077):5.363367179900153,clade246:6.351514131155245):0.5363367179900154,(clade239:4.817461857473228,clade247:4.817461858835002):5.363367179900153):5.363367179900153,(clade248:0.9356347753259229,clade250:1.192052805064559):5.363367179900153):2.47545722461623,clade243:11.845362085027178):3.3701355862029327):0.7043139608525749,(((((((clade453:4.9361750924949135,clade458:4.936175091133158):1.1563665521001778,clade454:6.092541642779413):0.7666033015041073,((clade460:2.666893436325416,clade462:3.1433401072217153):1.8628227672435176,clade461:4.933180690882436):2.3294287402606666):0.5363367179900154,(((clade456:3.8512291140149673,clade457:3.8512291144688904):2.40699836507723,clade452:6.25822747727652):0.7246463943757707,clade455:6.982873873921891):0.5363367179900154):3.3104054776994833,clade451:9.537493855352935):0.5363367179900154,clade459:9.331323087560477):0.5363367179900154,(((((clade472:0.5363367179896992,clade474:1.0726734359797039):5.8247826085413426,clade467:6.20894772130852):0.5363367179900154,(clade465:2.064180026673131,(clade466:1.8054764790843874,clade473:1.9087100746220595):1.0726734359800307):4.757150389849439):3.3456939442374094,((clade463:4.59864871691936,clade475:5.1302152990237415):2.7309376880092406,clade469:6.254458225805207):2.3339706934595106):4.444563085616058,((clade464:2.7286326304410258,clade468:2.7286326304410258):0.6656058424821539,(clade470:1.077138444965565,clade471:1.0726734359797714):2.727795671594211):5.363367179900153):0.5363367179900154):0.6039384498314374):2.284093791206722):1.0821554651895093):0.5363367179900154):1.6188646085303358):1.2343483786314549):4.162844156100299,(((((((((clade429:2.2729473306387287,clade437:2.7120497905297745):3.338035141744858,(((clade433:4.051250504535256,clade431:3.8963770162353564):0.5363367179900154,clade427:3.899541207694851):0.5363367179900154,clade430:4.033404047952139):1.5775784239775281):3.6320406150431914,clade426:9.24302308515718):4.7304256324996325,((clade428:2.8406435788070272,clade434:3.4538804308145052):5.363367179900153,((clade436:2.8873963788763626,clade435:2.886771500370253):1.2004058862933993,clade432:3.8848485859098005):4.741053934249414):5.363367179900153):0.5363367179900154,((((((clade443:2.2215476845475064,clade444:2.6641381334211127):1.7763316521129955,clade445:3.997879336660502):1.9131439510747614,clade439:5.911023288189186):0.5363367179900154,(((clade446:1.5222108522285387,clade450:1.436129113616801):2.036315808725014,clade442:3.243579552810525):0.5363367179900154,clade448:3.3460591542120603):3.126201196992458):1.2809046357371852,clade438:5.363367179899929):0.5363367179900154,((clade441:3.143114196564341,(clade447:0.7542088460400596,clade449:1.0726734359797714):2.883683440023108):0.5363367179900154,clade440:3.550826551026108):4.558806364089107):0.5363367179900154):1.1062494083310594,(((((clade144:2.4038908817999145,clade149:2.232234510904675):2.902411130645488,clade141:5.189421421288826):0.5363367179900154,clade139:5.330535183800556):1.1573767434824243,((clade147:3.981178726548617,clade146:3.981178726548617):0.9264500665369328,clade150:5.365427493160292):1.5802831346513537):2.481424892242146,((((clade142:2.785649098147787,clade148:2.7301403459075955):0.5363367179900154,clade140:2.9908854470735173):1.660193149687862,(clade143:2.4267513867947565,clade145:2.312844987224375):2.3382336090830766):0.9804929448779579,clade138:5.3633671798999005):3.337765278339717):1.3214077140168097):3.157748577572963,((((((clade58:1.2029503724073136,clade60:1.351966241816252):4.234452839018466,((clade54:2.886474676568777,(clade56:1.1368861911325943,clade57:1.9953983096481207):2.0367965466990183):1.0275632505591163,clade53:3.914037927127894):1.4928919667496285):2.190061922198591,(clade55:5.492055947779127,clade61:5.836600211559955):2.10493586784307):1.2071531415688364,((clade51:4.820288310760262,clade59:4.969064927582294):2.7604790637303087,clade62:8.05978982744556):1.4594307459026707):1.634022776960321,clade52:9.677346913056738):2.8918723146163914,(((((((clade377:3.081055599160318,clade386:3.405983451359325):0.5363367179900154,clade378:3.200258606680294):4.927784964160129,(((clade379:1.2352878856448113,clade387:1.5805891525951723):1.157735949623558,clade384:2.8419741191232286):3.829217591291295,clade385:6.356450576031353):2.0225712716733186):3.860507083321064,((clade383:2.6751614834233184,(clade380:0.8702642407695318,clade381:1.3110275840518435):1.8048972426537866):5.068732581930585,clade382:6.128021987256933):4.244656588353654):0.5363367179900154,clade376:9.876468532397542):0.5436211390610441,((((clade390:3.4290797850250905,clade394:3.4290797845711745):0.5374826010978339,(clade398:0.5363367179896885,clade399:1.0726734359796932):3.8771389153654026):5.363367179900153,(clade389:5.363367179899837,clade397:5.899703897889841):3.6464995579207837):5.363367179900153,(clade388:5.363367179899908,(clade400:6.402297746472585,((clade391:2.293513256800799,(clade392:1.272813306823123,clade393:1.7861480730069286):1.553458554599493):0.5363367179900154,(clade395:0.6653865398252288,clade396:1.0726734359796932):1.858613777728823):3.719510941831962):6.683243857420301):2.9599086294274306):0.5436211390610441):0.9631718511100628,((clade120:5.899703897889923,((clade116:2.7377545103952237,#H2:2.118283393278289::0.058695900675917234):1.4239645799677492,(clade118:1.205142346787421,clade124:1.3961389645467044):3.1974111618792485):4.803964288119693):2.344450959300216,(((((clade115:4.493672490984466,(clade117:1.1558078351069538,(clade123:1.4569139629586347)#H2:0.0::0.9413040993240828):3.337864655877511):1.152975545321398,clade114:5.363367179899879):0.5363367179900154,clade122:5.899703897889895):0.5363367179900154,(((#H3:0.5363367179900154::0.15803933683550275,clade125:1.07267343597975):0.6009819794300504,clade119:1.118302744374493):2.8513060430042287,(clade121:0.5363367179897383)#H3:3.452288022434279::0.8419606631644972):2.635211317866317):2.8698222345952207,clade113:5.363367179899922):1.4273249975549331):1.5067929901711068):1.3850793244452841):1.5872839769733815):3.2242096972215943,(((((clade44:7.782145101157723,clade46:7.893832662474998):0.5363367179900154,(clade38:4.930980072833359,(clade42:0.97247114329137,clade49:1.3984933699899185):3.958508930903744):3.2447840662892697):0.8924032391121165,clade40:6.988114504084985):1.1979994200586914,((clade39:2.5721622718613006,((clade47:0.5363367179897525,clade50:1.0726734359797678):0.5363367179900154,clade48:1.0726734359797678):2.3943121262666827):0.719565583622783,((clade43:1.6810120012429497,clade45:1.7565501025834405):0.7023295612069316,clade41:2.3833415624498815):0.9083862930342023):5.363367179900153):3.641971895928342,((((((((clade479:2.4844817894817774,clade487:2.7108251298274424):4.373803688187098,clade484:6.675172265478536):0.6784680176657596,((clade477:2.5829865398042706,(clade478:1.984755969848178,clade483:1.9847559698481785):0.598230569956092):0.9327966553963355,clade485:3.5277903499125856):3.8340686506111687):3.4917549873419493,((clade476:3.797885481652712,clade482:3.797885481198796):0.5363367179900154,(clade480:4.189642318774313,clade481:4.189642318774313):0.5363367179900154):6.520329005211971):1.2046411887841246,clade486:7.833458465786368):0.5363367179900154,(clade488:5.363367179899929,(((((clade496:0.8327454145898195,clade497:1.1181570756563837):0.7059532966778392,clade493:2.0576354891918696):0.8074247090982211,clade500:2.707405727650743):5.363367179900153,(((clade490:3.973232261553373,clade495:3.9732322615533726):1.9633348395387848,(clade494:4.176589028436809,clade491:4.176589028436809):1.759978073109272):1.4987208470794287,((clade498:0.5363367179896992,clade499:1.0726734359797145):4.216810356356111,clade492:4.523253168884853):3.323817856451417):0.5363367179900154):4.384502687923064,clade489:7.8098530138895095):1.1540967032641372):0.5363367179900154):1.2647088646248588,((((clade153:1.285760055408972,(clade155:0.756683510686876,clade158:1.0726734359797323):1.0726734359800307):1.1200103802901848,#H4:1.0726734359800307::0.5):5.363367179900153,(clade162:4.621036837554521,clade152:4.122441562468199):5.117738074650209):4.121346163104399,((clade151:2.2867188385269683)#H4:6.430364960791268::0.5,((((clade154:1.067413308675512,clade156:1.2323017405384253):1.0994694306031507,clade160:2.738469601478271):0.5363367179900154,clade159:2.6190064441413576):4.805582435136986,(clade157:3.5979628723506663,clade161:3.954807587265946):3.75564541626677):1.3777933216257592):4.644441997273219):1.2810645997469412):0.7232585277694891,(((((clade256:1.6448662264783043,clade258:1.4365109031685521):5.363367179900153,((clade251:4.2375804543782145,clade252:4.2375804543782145):0.8450262521487225,((clade255:1.8575679486602603,clade257:1.8575679486602605):0.6506089993669687,clade261:2.936828338643669):2.574429758499708):5.363367179900153):1.4165919247940237,clade262:10.177461591132854):3.453446708638372,((clade253:2.2945154228835967,clade260:2.70311230801098):5.363367179900153,(clade254:7.55249523004338,clade259:7.708033453103147):0.5363367179900154):5.363367179900153):0.70118913437486,((((clade268:0.6004116861239032,clade271:1.072673435979775):5.363367179900153,(clade275:1.1246148317088198,clade269:1.1311121418659709):5.363367179900153):2.3262051976060936,clade272:5.899703897889937):0.5363367179900154,((clade264:5.36336717989989,((clade265:2.6651906706754844,clade274:3.06879591500398):3.42715962635887,(clade266:1.3953635142439245,clade267:1.3953635142439245):4.696986783244347):0.5363367179900154):3.8483520110115346,(clade263:5.363367179899918,(clade270:7.52454443291358,clade273:6.436040615879917):1.9996851793890573):0.7297703942221233):0.5363367179900154):0.70118913437486):1.3031339926876508):1.637648768865831):4.061394092429106):0.5363367179900154,(((((clade314:4.766981725050581,clade315:4.766981725050581):5.363367179900153,(clade321:5.646473911657024,clade317:5.605332833123422):5.363367179900153):2.175832329489137,clade325:5.89970389788993):3.7493586585570235,((clade324:5.53843497497168,(clade316:3.031773589027343,clade318:3.0317735890273436):2.749375856551084):3.828342837278114,((clade313:5.363367179899865,clade320:5.84796923635843):0.5929408749104258,((clade319:1.0645371875000178,clade322:1.159624794480946):1.315837652319118,clade323:2.513001141950885):4.060535272357556):2.661820292275676):5.363367179900153):0.5880996715480098,(((clade334:2.4467099313992686,clade329:2.4467099313992655):2.878167865186561,clade337:5.5567311580610665):4.855107806576079,(((clade326:5.10929163758176,((clade328:2.6624481693747706,clade335:2.6624481693747737):0.5363367179900154,(clade331:1.0430915791190922,clade333:1.2155072357843097):1.9081425293460827):2.2757758129468124):1.0002299206974539,clade327:6.109521558279214):2.682668425734003,((clade330:1.4751169224604803,clade336:1.8338333454047238):5.363367179900153,clade332:7.411444513501861):1.3969667746434267):1.3877956182408528):0.5880996715480098):5.363367179900153):3.6227936062352564):2.1441570858403685,OUTGROUP:4.539196544782371);\n"
     ]
    }
   ],
   "source": [
    "println(writeTopology(adj_true))"
   ]
  },
  {
   "cell_type": "markdown",
   "metadata": {},
   "source": [
    "### Error calculations"
   ]
  },
  {
   "cell_type": "code",
   "execution_count": 11,
   "metadata": {},
   "outputs": [
    {
     "name": "stderr",
     "output_type": "stream",
     "text": [
      "┌ Info: Reduce network rooted error: 4\n",
      "└ @ Main /mnt/dv/wid/projects4/SolisLemus-network-merging/InPhyNet-Simulations/est-gts/analysis/tanglegram.ipynb:1\n",
      "┌ Info: Sum of clade error: 10\n",
      "└ @ Main /mnt/dv/wid/projects4/SolisLemus-network-merging/InPhyNet-Simulations/est-gts/analysis/tanglegram.ipynb:6\n"
     ]
    }
   ],
   "source": [
    "@info \"Reduce network rooted error: $(hardwiredClusterDistance(adj_mnet, adj_true, true))\"\n",
    "\n",
    "mnet_clades = gather_clades(mnet, clade_size);\n",
    "true_clades = gather_clades(truenet, clade_size);\n",
    "\n",
    "@info \"Sum of clade error: $(sum(hardwiredClusterDistance(mc, tc, false) for (mc, tc) in zip(mnet_clades, true_clades)))\""
   ]
  },
  {
   "cell_type": "markdown",
   "metadata": {},
   "source": [
    "### Next steps\n",
    "\n",
    "Open SplitsTree, load the adjusted mnet and true nets in, then on TreeView click `Tree > Show Tanglegram`"
   ]
  },
  {
   "cell_type": "markdown",
   "metadata": {},
   "source": [
    "# Zoom in on errors figure"
   ]
  },
  {
   "cell_type": "code",
   "execution_count": 10,
   "metadata": {},
   "outputs": [
    {
     "data": {
      "text/plain": [
       "3-element Vector{Any}:\n",
       " [\"t401\", \"t403\", \"t404\", \"t410\", \"t411\"]\n",
       " [\"t427\", \"t428\", \"t432\", \"t435\", \"t436\", \"t442\", \"t443\"]\n",
       " [\"t301\", \"t302\", \"t308\", \"t309\", \"t311\", \"t312\", \"t313\", \"t314\", \"t315\", \"t318\", \"t319\", \"t320\", \"t321\", \"t322\", \"t323\"]"
      ]
     },
     "metadata": {},
     "output_type": "display_data"
    }
   ],
   "source": [
    "mnet_desc = [sort(unique([d.name for d in get_descendant_leaves(n)])) for n in mnet.node];\n",
    "true_desc = [sort(unique([d.name for d in get_descendant_leaves(n)])) for n in truenet.node];\n",
    "diff_desc = unique(symdiff(mnet_desc, true_desc));\n",
    "relevant_clades = [];\n",
    "for desc_i in diff_desc\n",
    "    any_matches = false\n",
    "    for desc_j in diff_desc\n",
    "        if desc_i == desc_j continue end\n",
    "        if all(e -> e in desc_j, desc_i)\n",
    "            any_matches = true\n",
    "            break\n",
    "        end\n",
    "    end\n",
    "    if !any_matches\n",
    "        push!(relevant_clades, desc_i)\n",
    "    end\n",
    "end\n",
    "relevant_clades"
   ]
  },
  {
   "cell_type": "code",
   "execution_count": 20,
   "metadata": {},
   "outputs": [
    {
     "data": {
      "text/plain": [
       "7-element Vector{Vector{String}}:\n",
       " [\"t401\", \"t403\", \"t404\"]\n",
       " [\"t403\", \"t404\"]\n",
       " [\"t401\", \"t403\", \"t404\", \"t410\", \"t411\"]\n",
       " [\"t403\", \"t404\", \"t410\", \"t411\"]\n",
       " [\"t404\", \"t410\", \"t411\"]\n",
       " [\"t428\", \"t432\", \"t436\", \"t435\", \"t427\", \"t442\", \"t443\"]\n",
       " [\"t301\", \"t313\", \"t314\", \"t322\", \"t323\", \"t308\", \"t311\", \"t312\", \"t315\", \"t320\", \"t321\", \"t309\", \"t318\", \"t319\", \"t302\"]"
      ]
     },
     "metadata": {},
     "output_type": "display_data"
    }
   ],
   "source": [
    "mnet_clusters = [cluster[2:1002] for cluster in eachrow(hardwiredClusters(mnet, tipLabels(mnet)))]\n",
    "true_clusters = [cluster[2:1002] for cluster in eachrow(hardwiredClusters(truenet, tipLabels(mnet)))]\n",
    "diff_clusters = symdiff(mnet_clusters, true_clusters)\n",
    "idxs = [findall(c .== 1) for c in diff_clusters]\n",
    "[tipLabels(mnet)[idx] for idx in idxs]"
   ]
  },
  {
   "cell_type": "markdown",
   "metadata": {},
   "source": [
    "Next step: in the rendered PDFs/SVGs for mnet, look for the clade (`CTRL+F`) that contains a given vector of names and find its corresponding match in the truenet. They should differ *somehow*"
   ]
  },
  {
   "cell_type": "code",
   "execution_count": 21,
   "metadata": {},
   "outputs": [
    {
     "name": "stdout",
     "output_type": "stream",
     "text": [
      "(OUTGROUP,(((((((((((t100,t99),t94),(t95,t96)),t89),t78),((t82,t83),((t85,t86),(t90,t91)))),(((t76,(t84,(t97,t98))),((t77,(t92,t93)),(t79,(t87,t88)))),(t80,t81))),(((((((((t1000,t999),t993),((t985,t986),(t992,(t994,t995)))),((t979,((t983,t984),(t989,(t996,(t997,t998))))),((t980,(t990,t991)),((t981,t982),(t987,t988))))),(t977,t978)),t976),(((t951,((t952,(t964,t965)),((t959,t960),(t962,t963)))),(((t953,(t961,(t968,t969))),((t957,t958),(t974,t975))),((t954,(t956,(t966,t967))),(t970,t971)))),(t955,(t972,t973)))),(((t301,((t313,t314),(t322,t323))),(((t308,(t311,t312)),(t315,(t320,t321))),(t309,(t318,t319)))),((((t306,(t307,(t310,(t316,t317)))),(t303,#H5:::0.16408800903559995)),((t304,t305),(t324,t325))),(t302)#H5:::0.8359119909644))),((((t501,(t524,t525)),(((t502,(t504,t505)),(t503,((t510,(t513,t514)),(t522,t523)))),((t511,t512),(t516,t517)))),((t506,(t515,(t520,t521))),((t507,t508),(t509,(t518,t519))))),(((t526,((t529,(t539,t540)),(t533,(t545,t546)))),(t528,((t530,(t547,t548)),((t531,t532),(t534,t535))))),((t527,((t536,(t541,t542)),((t537,t538),(t549,t550)))),(t543,t544)))))),(((((t101,((t102,(t118,t119)),(t107,(t124,t125)))),(((t103,(t109,t110)),(t122,t123)),((t106,(t108,(t111,(t112,(t113,(t114,t115)))))),((t116,t117),(t120,t121))))),(t104,t105)),(((t226,(((t243,t244),(t228,(t230,(t234,((t245,t246))#H4:::0.8461515430870999)))),(t229,((t233,(t242)#H8:::0.9458057632837653),((t238,t239),((t249,t250),#H8:::0.05419423671623473)))))),((t240,t241),(t227,(t231,((t232,(t235,#H4:::0.15384845691290003)),((t236,t237),(t247,t248))))))),(((((t751,(((t758,(t774,t775)),(t765,(t768,t769))),(t759,(t770,t771)))),((t754,(t772,t773)),(t755,t756))),(((t757,(t760,(t761,t762))),(t766,t767)),(t763,t764))),(t752,t753)),((t776,(t777,((t779,(t789,(t799,t800))),(t781,((t782,(t783,(t784,(t785,t786)))),(t790,(t792,t793))))))),((t778,(t794,t795)),((t780,(t787,t788)),(t791,(t796,(t797,t798))))))))),(((t276,((t280,((t283,t284),(t295,t296))),((t285,t286),(t289,t290)))),((((t277,(t281,t282)),((t287,t288),(t297,t298))),(t278,t279)),(((t291,t292),(t293,t294)),(t299,t300)))),(((((t851,((t854,((t859,(t862,t863)),(t866,t867))),(t860,t861))),(t858,(t874,t875))),(t852,t853)),(((t855,((t870,t871),(t872,t873))),(t864,t865)),(t856,(t857,(t868,t869))))),((t876,(((t877,t878),((t886,(t887,t888)),(t889,t890))),(t879,(((t884,t885),((t892,t893),(t899,t900))),(t895,t896))))),(t880,((t881,(t891,(t894,(t897,t898)))),(t882,t883)))))))),(((((t626,(t639,t640)),((t638,(t643,t644)),(t645,t646))),((t631,(t632,(t636,t637))),(t647,t648))),((((t627,(t633,(t641,t642))),(t634,t635)),(t628,(t629,t630))),(t649,t650))),(((t651,((t657,(t664,t665)),(t660,(t663,(t672,t673))))),((t652,((t656,(t670,t671)),(t661,(t662,(t666,t667))))),(t653,t654))),((t655,(t674,t675)),((t658,t659),(t668,t669)))))),(((((t401,(t403,t404)),(t402,(((((t406,(t415,t416)),(((t405,(t407,(t417,(t418,t419)))),((t410,t411))#H1:::0.5087011020977101),#H1:::0.4912988979022899)),(t412,(t414,((t422,t423),(t424,t425))))),(t413,(t420,t421))),(t408,t409)))),(((((t576,t577),((t579,(t587,t588)),(t585,t586))),(((t582,t583),((t594,t595),(t599,t600))),(t596,#H6:::0.4794492378652945))),(((t578,(t580,t581)),(t591,(t592,t593))),(t584,((t589,t590),(t597,(t598)#H6:::0.5205507621347055))))),(((t601,(t608,t609)),((t604,t605),(t603,#H9:::0.4936655686447359))),((((t611,(t613,(t616,t617))),(t602)#H9:::0.5063344313552641),((t606,t607),(t610,((t612,(t622,t623)),(t614,t615))))),((t618,t619),((t620,t621),(t624,t625))))))),((((t551,((t558,(t562,t563)),(t560,(t572,t573)))),(t552,t553)),(((t554,(t574,t575)),(t555,(t557,(t568,t569)))),((t556,(t561,(t566,t567))),((t559,(t570,t571)),(t564,t565))))),((((t801,((t805,(t806,(t813,t814))),(t811,t812))),((t804,(t823,(t824,t825))),((t807,(t808,(t815,t816))),(t817,t818)))),((t802,(t803,(t809,t810))),((t819,t820),(t821,t822)))),(((((t826,((t832,(t833,(t847,t848))),(t834,(t837,t838)))),((t829,(t835,t836)),(t842,t843))),(t849,t850)),((t827,(t839,(t844,(t845,t846)))),(t828,(t840,t841)))),(t830,t831))))),(((t1,(((((t11,t12),(t16,t17)),((t13,t14),t5)),(t20,t21)),((t15,(t18,t19)),((t22,t23),((t24,t25),(t7,t8)))))),((((t10,t9),t6),t4),(t2,t3))),((((t26,((t30,(t43,t44)),(t49,t50))),(t27,(t31,t32))),(((t28,(t36,t37)),((t33,t34),(t41,t42))),(((t29,(t35,(t47,t48))),(t38,t39)),(t40,(t45,t46))))),((((((((((t126,(t127,(t138,t139))),(t143,t144)),(t133,t134)),((t140,t141),(t142,(t149,t150)))),(t137,(t145,t146))),(((t128,(t131,t132)),((t129,t130),(t147,t148))),(t135,t136))),((t151,(t152,(t154,(t163,(t169,(t171,(t172,t173))))))),((((t155,t156),((((t159,(t167,t168)))#H2:::0.9579067531380051,((t158,(t160,(t164,(t165,t166)))))#H3:::0.9383831288745013),#H2:::0.042093246861994844)),(t157,(t161,(t162,(t170,(t174,t175)))))),(t153,#H3:::0.06161687112549871)))),((((((t326,(t336,t337)),(t348,(t349,t350))),((t327,(t331,(t332,t333))),((t328,(t334,((t342,t343),(t344,t345)))),(t335,(t338,t339))))),(t329,(t330,(t340,t341)))),(t346,t347)),((((t351,(t352,((t359,t360),(t365,t366)))),((t358,(t362,(t367,t368))),(t361,(t371,(t372,t373))))),((t353,(t355,(t363,t364))),(t369,t370))),((t354,(t374,t375)),(t356,t357))))),(((t51,(t52,((t54,(t64,(t69,(t70,(t71,t72))))),(t55,(t61,t62))))),(t59,t60)),(((t53,(t56,t57)),((t65,t66),(t73,(t74,t75)))),(t58,(t63,(t67,t68)))))),((((((((t476,(t482,t483)),(t492,t493)),(t478,(t494,t495))),(t496,(t499,t500))),(t477,(t485,(t486,t487)))),((((t479,(t497,t498)),(t480,t481)),(t490,t491)),(t484,(t488,t489)))),((((t901,(t902,t903)),((((t904,t905),(t912,(t913,t914))),(t909,t910)),(((t906,(t915,t916)),(t907,t908)),((t919,(t922,t923)),((t920,t921),(t924,t925)))))),(t911,(t917,t918))),((((t926,(t927,(t949,t950))),(t938,t939)),((t929,(t930,(t931,(t932,(t945,t946))))),((t933,t934),(t937,(t944,(t947,t948)))))),((t928,(t935,t936)),((t940,t941),(t942,t943)))))),((((((t176,(t177,((((t180,t181),(t190,t191)),((t182,(t183,(t197,t198))),(t184,(t192,(t195,t196))))),(t188,t189)))),(t187,(t199,t200))),(t179,(t185,t186))),(t178,(t193,t194))),((((t201,(t207,(t208,t209))),(t202,((t210,t211),(t212,((t219,t220),(t221,(t222,t223))))))),(t203,(t213,t214))),((t204,(t205,(t206,((t215,t216),(t217,t218))))),(t224,t225)))),(((((t426,(((t429,((t431,(t446,(t447,t448))),(t437,t438))),(t430,(t439,t440))),(((t433,t434),(t441,(t444,t445))),(t449,t450)))),(t428,(t432,(t436,t435)))),(t427,(t442,t443))),((((t451,((t452,(t455,(t467,(t474,t475)))),(t468,(t469,(t472,t473))))),(t459,t460)),(t454,(t470,t471))),(((t453,(t457,t458)),(t464,(t465,t466))),(t456,(t461,(t462,t463)))))),((((((t251,(t258,t259)),(t254,(t255,((t268,(t269,(t270,t271))),(t274,t275))))),(t264,t265)),(t252,t253)),((((t256,(t257,(t260,t261))),(t266,t267)),(t272,t273)),(t262,t263))),((((t376,t377),(((t378,t379),(((t385,(t388,(t392,(t397,t398)))),(t386,t387)),(t390,t391))),((t380,(t383,(t389,(t395,(t396,(t399,t400)))))),(t384,(t393,t394))))),(t381,t382)),(((((t676,(t683,t684)),(((t677,(t678,(t679,(t680,t681)))),((t685,(t697,t698)),(t690,(t695,t696)))),(t682,(t691,t692)))),((t687,(t693,t694)),(t699,t700))),(t686,(t688,t689))),(((((t701,((t710,(t722,t723)),(t718,t719))),((t702,((t704,(t713,(t720,t721))),(t724,t725))),(t716,t717))),(t703,((t707,t708),(t714,t715)))),((t705,t706),(t709,(t711,t712)))),(((((t726,t727),(t738,(t749,t750))),((t728,((t733,(t741,t742)),((t739,t740),((t745,t746),(t747,t748))))),(t729,(t730,(t734,t735))))),(t731,t732)),((t736,t737),(t743,t744))))))))))))))));\n"
     ]
    }
   ],
   "source": [
    "println(writeTopology(mnet))"
   ]
  }
 ],
 "metadata": {
  "kernelspec": {
   "display_name": "Julia 1.11.1",
   "language": "julia",
   "name": "julia-1.11"
  },
  "language_info": {
   "file_extension": ".jl",
   "mimetype": "application/julia",
   "name": "julia",
   "version": "1.11.1"
  }
 },
 "nbformat": 4,
 "nbformat_minor": 2
}
